{
 "cells": [
  {
   "cell_type": "code",
   "execution_count": 1,
   "metadata": {},
   "outputs": [],
   "source": [
    "import os\n",
    "import pandas as pd\n",
    "import numpy as np\n",
    "import warnings\n",
    "warnings.filterwarnings('ignore')"
   ]
  },
  {
   "cell_type": "code",
   "execution_count": 2,
   "metadata": {},
   "outputs": [],
   "source": [
    "from IPython.display import display\n",
    "pd.options.display.max_columns = None\n",
    "pd.options.display.max_rows = None"
   ]
  },
  {
   "cell_type": "code",
   "execution_count": 3,
   "metadata": {},
   "outputs": [
    {
     "data": {
      "text/plain": [
       "'/Users/gunsu/Documents/notebooks'"
      ]
     },
     "execution_count": 3,
     "metadata": {},
     "output_type": "execute_result"
    }
   ],
   "source": [
    "%pwd"
   ]
  },
  {
   "cell_type": "code",
   "execution_count": 4,
   "metadata": {},
   "outputs": [],
   "source": [
    "os.chdir('/Users/gunsu/Documents/notebooks/')"
   ]
  },
  {
   "cell_type": "code",
   "execution_count": 5,
   "metadata": {},
   "outputs": [],
   "source": [
    "os.chdir('/Users/gunsu/Desktop/')"
   ]
  },
  {
   "cell_type": "code",
   "execution_count": 6,
   "metadata": {},
   "outputs": [],
   "source": [
    "df=pd.read_excel('df_uni.xlsx',index_col=False)"
   ]
  },
  {
   "cell_type": "code",
   "execution_count": 16,
   "metadata": {},
   "outputs": [
    {
     "data": {
      "text/html": [
       "<div>\n",
       "<style scoped>\n",
       "    .dataframe tbody tr th:only-of-type {\n",
       "        vertical-align: middle;\n",
       "    }\n",
       "\n",
       "    .dataframe tbody tr th {\n",
       "        vertical-align: top;\n",
       "    }\n",
       "\n",
       "    .dataframe thead th {\n",
       "        text-align: right;\n",
       "    }\n",
       "</style>\n",
       "<table border=\"1\" class=\"dataframe\">\n",
       "  <thead>\n",
       "    <tr style=\"text-align: right;\">\n",
       "      <th></th>\n",
       "      <th>UPC</th>\n",
       "      <th>COC</th>\n",
       "      <th>COC?</th>\n",
       "      <th>Consolidated_UPC_CoC</th>\n",
       "      <th>Name</th>\n",
       "      <th>Name_new</th>\n",
       "      <th>Product</th>\n",
       "      <th>StoreId</th>\n",
       "      <th>ScanId</th>\n",
       "      <th>Date</th>\n",
       "      <th>Facing</th>\n",
       "      <th>Shift</th>\n",
       "      <th>Brand</th>\n",
       "      <th>Category</th>\n",
       "      <th>Manufacturer</th>\n",
       "      <th>Aisle_Length</th>\n",
       "      <th>Shelf</th>\n",
       "      <th>Position</th>\n",
       "      <th>Size</th>\n",
       "      <th>Product_Type</th>\n",
       "      <th>OSA</th>\n",
       "      <th>Store_Names</th>\n",
       "      <th>OOS</th>\n",
       "      <th>New</th>\n",
       "    </tr>\n",
       "  </thead>\n",
       "  <tbody>\n",
       "    <tr>\n",
       "      <th>0</th>\n",
       "      <td>8690637919916</td>\n",
       "      <td>NonCore</td>\n",
       "      <td>8690637919916</td>\n",
       "      <td>NaN</td>\n",
       "      <td>1 Dakika Super Sac Kremi (blue) 170ml</td>\n",
       "      <td>1 Dakika Super Sac Kremi (blue)</td>\n",
       "      <td>1 Dakika Super Sac Kremi</td>\n",
       "      <td>52</td>\n",
       "      <td>52120920191</td>\n",
       "      <td>2019-12-09</td>\n",
       "      <td>2</td>\n",
       "      <td>morning</td>\n",
       "      <td>Dove</td>\n",
       "      <td>Hair Care</td>\n",
       "      <td>Unilever</td>\n",
       "      <td>50</td>\n",
       "      <td>2</td>\n",
       "      <td>27</td>\n",
       "      <td>170ml</td>\n",
       "      <td>Krem</td>\n",
       "      <td>1</td>\n",
       "      <td>Cekmekoy</td>\n",
       "      <td>0</td>\n",
       "      <td>0</td>\n",
       "    </tr>\n",
       "    <tr>\n",
       "      <th>1</th>\n",
       "      <td>8690637919916</td>\n",
       "      <td>NonCore</td>\n",
       "      <td>8690637919916</td>\n",
       "      <td>NaN</td>\n",
       "      <td>1 Dakika Super Sac Kremi (blue) 170ml</td>\n",
       "      <td>1 Dakika Super Sac Kremi (blue)</td>\n",
       "      <td>1 Dakika Super Sac Kremi</td>\n",
       "      <td>52</td>\n",
       "      <td>52120920192</td>\n",
       "      <td>2019-12-09</td>\n",
       "      <td>1</td>\n",
       "      <td>afternoon</td>\n",
       "      <td>Dove</td>\n",
       "      <td>Hair Care</td>\n",
       "      <td>Unilever</td>\n",
       "      <td>50</td>\n",
       "      <td>2</td>\n",
       "      <td>27</td>\n",
       "      <td>170ml</td>\n",
       "      <td>Krem</td>\n",
       "      <td>1</td>\n",
       "      <td>Cekmekoy</td>\n",
       "      <td>0</td>\n",
       "      <td>0</td>\n",
       "    </tr>\n",
       "  </tbody>\n",
       "</table>\n",
       "</div>"
      ],
      "text/plain": [
       "             UPC      COC           COC?  Consolidated_UPC_CoC  \\\n",
       "0  8690637919916  NonCore  8690637919916                   NaN   \n",
       "1  8690637919916  NonCore  8690637919916                   NaN   \n",
       "\n",
       "                                    Name                          Name_new  \\\n",
       "0  1 Dakika Super Sac Kremi (blue) 170ml  1 Dakika Super Sac Kremi (blue)    \n",
       "1  1 Dakika Super Sac Kremi (blue) 170ml  1 Dakika Super Sac Kremi (blue)    \n",
       "\n",
       "                     Product  StoreId       ScanId       Date  Facing  \\\n",
       "0  1 Dakika Super Sac Kremi        52  52120920191 2019-12-09       2   \n",
       "1  1 Dakika Super Sac Kremi        52  52120920192 2019-12-09       1   \n",
       "\n",
       "       Shift Brand   Category Manufacturer  Aisle_Length  Shelf  Position  \\\n",
       "0    morning  Dove  Hair Care     Unilever            50      2        27   \n",
       "1  afternoon  Dove  Hair Care     Unilever            50      2        27   \n",
       "\n",
       "    Size Product_Type  OSA Store_Names  OOS  New  \n",
       "0  170ml         Krem    1    Cekmekoy    0    0  \n",
       "1  170ml         Krem    1    Cekmekoy    0    0  "
      ]
     },
     "execution_count": 16,
     "metadata": {},
     "output_type": "execute_result"
    }
   ],
   "source": [
    "df.head(2)"
   ]
  },
  {
   "cell_type": "code",
   "execution_count": 79,
   "metadata": {},
   "outputs": [],
   "source": [
    "df_c=df[['Product','Date','Facing','Shift','Brand','COC','Manufacturer','Shelf','Position','Size','Product_Type',\n",
    "      'OSA','Store_Names','OOS']]"
   ]
  },
  {
   "cell_type": "code",
   "execution_count": 80,
   "metadata": {
    "scrolled": true
   },
   "outputs": [
    {
     "data": {
      "text/html": [
       "<div>\n",
       "<style scoped>\n",
       "    .dataframe tbody tr th:only-of-type {\n",
       "        vertical-align: middle;\n",
       "    }\n",
       "\n",
       "    .dataframe tbody tr th {\n",
       "        vertical-align: top;\n",
       "    }\n",
       "\n",
       "    .dataframe thead th {\n",
       "        text-align: right;\n",
       "    }\n",
       "</style>\n",
       "<table border=\"1\" class=\"dataframe\">\n",
       "  <thead>\n",
       "    <tr style=\"text-align: right;\">\n",
       "      <th></th>\n",
       "      <th>Product</th>\n",
       "      <th>Date</th>\n",
       "      <th>Facing</th>\n",
       "      <th>Shift</th>\n",
       "      <th>Brand</th>\n",
       "      <th>COC</th>\n",
       "      <th>Manufacturer</th>\n",
       "      <th>Shelf</th>\n",
       "      <th>Position</th>\n",
       "      <th>Size</th>\n",
       "      <th>Product_Type</th>\n",
       "      <th>OSA</th>\n",
       "      <th>Store_Names</th>\n",
       "      <th>OOS</th>\n",
       "    </tr>\n",
       "  </thead>\n",
       "  <tbody>\n",
       "    <tr>\n",
       "      <th>0</th>\n",
       "      <td>1 Dakika Super Sac Kremi</td>\n",
       "      <td>2019-12-09</td>\n",
       "      <td>2</td>\n",
       "      <td>morning</td>\n",
       "      <td>Dove</td>\n",
       "      <td>NonCore</td>\n",
       "      <td>Unilever</td>\n",
       "      <td>2</td>\n",
       "      <td>27</td>\n",
       "      <td>170ml</td>\n",
       "      <td>Krem</td>\n",
       "      <td>1</td>\n",
       "      <td>Cekmekoy</td>\n",
       "      <td>0</td>\n",
       "    </tr>\n",
       "    <tr>\n",
       "      <th>1</th>\n",
       "      <td>1 Dakika Super Sac Kremi</td>\n",
       "      <td>2019-12-09</td>\n",
       "      <td>1</td>\n",
       "      <td>afternoon</td>\n",
       "      <td>Dove</td>\n",
       "      <td>NonCore</td>\n",
       "      <td>Unilever</td>\n",
       "      <td>2</td>\n",
       "      <td>27</td>\n",
       "      <td>170ml</td>\n",
       "      <td>Krem</td>\n",
       "      <td>1</td>\n",
       "      <td>Cekmekoy</td>\n",
       "      <td>0</td>\n",
       "    </tr>\n",
       "    <tr>\n",
       "      <th>2</th>\n",
       "      <td>1 Dakika Super Sac Kremi</td>\n",
       "      <td>2019-12-09</td>\n",
       "      <td>2</td>\n",
       "      <td>evening</td>\n",
       "      <td>Dove</td>\n",
       "      <td>NonCore</td>\n",
       "      <td>Unilever</td>\n",
       "      <td>2</td>\n",
       "      <td>27</td>\n",
       "      <td>170ml</td>\n",
       "      <td>Krem</td>\n",
       "      <td>1</td>\n",
       "      <td>Cekmekoy</td>\n",
       "      <td>0</td>\n",
       "    </tr>\n",
       "    <tr>\n",
       "      <th>3</th>\n",
       "      <td>1 Dakika Super Sac Kremi</td>\n",
       "      <td>2019-12-10</td>\n",
       "      <td>2</td>\n",
       "      <td>morning</td>\n",
       "      <td>Dove</td>\n",
       "      <td>NonCore</td>\n",
       "      <td>Unilever</td>\n",
       "      <td>2</td>\n",
       "      <td>27</td>\n",
       "      <td>170ml</td>\n",
       "      <td>Krem</td>\n",
       "      <td>1</td>\n",
       "      <td>Cekmekoy</td>\n",
       "      <td>0</td>\n",
       "    </tr>\n",
       "    <tr>\n",
       "      <th>4</th>\n",
       "      <td>1 Dakika Super Sac Kremi</td>\n",
       "      <td>2019-12-10</td>\n",
       "      <td>2</td>\n",
       "      <td>afternoon</td>\n",
       "      <td>Dove</td>\n",
       "      <td>NonCore</td>\n",
       "      <td>Unilever</td>\n",
       "      <td>2</td>\n",
       "      <td>27</td>\n",
       "      <td>170ml</td>\n",
       "      <td>Krem</td>\n",
       "      <td>1</td>\n",
       "      <td>Cekmekoy</td>\n",
       "      <td>0</td>\n",
       "    </tr>\n",
       "  </tbody>\n",
       "</table>\n",
       "</div>"
      ],
      "text/plain": [
       "                     Product       Date  Facing      Shift Brand      COC  \\\n",
       "0  1 Dakika Super Sac Kremi  2019-12-09       2    morning  Dove  NonCore   \n",
       "1  1 Dakika Super Sac Kremi  2019-12-09       1  afternoon  Dove  NonCore   \n",
       "2  1 Dakika Super Sac Kremi  2019-12-09       2    evening  Dove  NonCore   \n",
       "3  1 Dakika Super Sac Kremi  2019-12-10       2    morning  Dove  NonCore   \n",
       "4  1 Dakika Super Sac Kremi  2019-12-10       2  afternoon  Dove  NonCore   \n",
       "\n",
       "  Manufacturer  Shelf  Position   Size Product_Type  OSA Store_Names  OOS  \n",
       "0     Unilever      2        27  170ml         Krem    1    Cekmekoy    0  \n",
       "1     Unilever      2        27  170ml         Krem    1    Cekmekoy    0  \n",
       "2     Unilever      2        27  170ml         Krem    1    Cekmekoy    0  \n",
       "3     Unilever      2        27  170ml         Krem    1    Cekmekoy    0  \n",
       "4     Unilever      2        27  170ml         Krem    1    Cekmekoy    0  "
      ]
     },
     "execution_count": 80,
     "metadata": {},
     "output_type": "execute_result"
    }
   ],
   "source": [
    "df_c.head()"
   ]
  },
  {
   "cell_type": "code",
   "execution_count": 81,
   "metadata": {},
   "outputs": [],
   "source": [
    "from collections import OrderedDict \n",
    "from datetime import datetime as dt\n",
    "import random"
   ]
  },
  {
   "cell_type": "code",
   "execution_count": 106,
   "metadata": {},
   "outputs": [],
   "source": [
    "df_size=df_c[['Product','Date','Size','Shift','Brand','Store_Names','COC','Manufacturer','Facing','OSA','OOS']]"
   ]
  },
  {
   "cell_type": "code",
   "execution_count": 107,
   "metadata": {},
   "outputs": [],
   "source": [
    "df_size['Date']=pd.to_datetime(df_size['Date'])"
   ]
  },
  {
   "cell_type": "code",
   "execution_count": 108,
   "metadata": {},
   "outputs": [],
   "source": [
    "df_size['Year_Month']=df_size['Date'].dt.strftime('%Y-%m')"
   ]
  },
  {
   "cell_type": "code",
   "execution_count": 109,
   "metadata": {},
   "outputs": [],
   "source": [
    "df_size = df_size.sort_values(['Product', 'Date']).\\\n",
    "groupby(['Product','Brand','Manufacturer','Date','Store_Names','COC'], sort=False)\\\n",
    ".Size.apply(','.join).reset_index(name='sizes')"
   ]
  },
  {
   "cell_type": "code",
   "execution_count": 110,
   "metadata": {},
   "outputs": [],
   "source": [
    "df_size['sizes_available'] = (df_size['sizes'].str.split(\",\")\n",
    "                              .apply(lambda x: OrderedDict.fromkeys(x).keys()).str.join('->'))"
   ]
  },
  {
   "cell_type": "code",
   "execution_count": 111,
   "metadata": {},
   "outputs": [],
   "source": [
    "df_size.drop(columns='sizes',inplace=True)"
   ]
  },
  {
   "cell_type": "code",
   "execution_count": 112,
   "metadata": {},
   "outputs": [
    {
     "name": "stdout",
     "output_type": "stream",
     "text": [
      "<class 'pandas.core.frame.DataFrame'>\n",
      "RangeIndex: 44713 entries, 0 to 44712\n",
      "Data columns (total 7 columns):\n",
      " #   Column           Non-Null Count  Dtype         \n",
      "---  ------           --------------  -----         \n",
      " 0   Product          44713 non-null  object        \n",
      " 1   Brand            44713 non-null  object        \n",
      " 2   Manufacturer     44713 non-null  object        \n",
      " 3   Date             44713 non-null  datetime64[ns]\n",
      " 4   Store_Names      44713 non-null  object        \n",
      " 5   COC              44713 non-null  object        \n",
      " 6   sizes_available  44713 non-null  object        \n",
      "dtypes: datetime64[ns](1), object(6)\n",
      "memory usage: 2.4+ MB\n"
     ]
    }
   ],
   "source": [
    "df_size.info()"
   ]
  },
  {
   "cell_type": "code",
   "execution_count": 1,
   "metadata": {},
   "outputs": [
    {
     "ename": "NameError",
     "evalue": "name 'df_size' is not defined",
     "output_type": "error",
     "traceback": [
      "\u001b[0;31m---------------------------------------------------------------------------\u001b[0m",
      "\u001b[0;31mNameError\u001b[0m                                 Traceback (most recent call last)",
      "\u001b[0;32m<ipython-input-1-73f1d1f5860d>\u001b[0m in \u001b[0;36m<module>\u001b[0;34m\u001b[0m\n\u001b[0;32m----> 1\u001b[0;31m \u001b[0mdf_size\u001b[0m\u001b[0;34m.\u001b[0m\u001b[0mhead\u001b[0m\u001b[0;34m(\u001b[0m\u001b[0;36m10\u001b[0m\u001b[0;34m)\u001b[0m\u001b[0;34m\u001b[0m\u001b[0;34m\u001b[0m\u001b[0m\n\u001b[0m",
      "\u001b[0;31mNameError\u001b[0m: name 'df_size' is not defined"
     ]
    }
   ],
   "source": [
    "df_size.head(10)"
   ]
  },
  {
   "cell_type": "code",
   "execution_count": 114,
   "metadata": {},
   "outputs": [
    {
     "data": {
      "text/plain": [
       "'/Users/gunsu/Desktop'"
      ]
     },
     "execution_count": 114,
     "metadata": {},
     "output_type": "execute_result"
    }
   ],
   "source": [
    "%pwd"
   ]
  },
  {
   "cell_type": "code",
   "execution_count": 115,
   "metadata": {},
   "outputs": [
    {
     "name": "stdout",
     "output_type": "stream",
     "text": [
      "<class 'pandas.core.frame.DataFrame'>\n",
      "RangeIndex: 44713 entries, 0 to 44712\n",
      "Data columns (total 7 columns):\n",
      " #   Column           Non-Null Count  Dtype         \n",
      "---  ------           --------------  -----         \n",
      " 0   Product          44713 non-null  object        \n",
      " 1   Brand            44713 non-null  object        \n",
      " 2   Manufacturer     44713 non-null  object        \n",
      " 3   Date             44713 non-null  datetime64[ns]\n",
      " 4   Store_Names      44713 non-null  object        \n",
      " 5   COC              44713 non-null  object        \n",
      " 6   sizes_available  44713 non-null  object        \n",
      "dtypes: datetime64[ns](1), object(6)\n",
      "memory usage: 2.4+ MB\n"
     ]
    }
   ],
   "source": [
    "df_size.info()"
   ]
  },
  {
   "cell_type": "code",
   "execution_count": 116,
   "metadata": {},
   "outputs": [],
   "source": [
    "df_size.to_excel('df_size.xlsx',index=False)"
   ]
  },
  {
   "cell_type": "code",
   "execution_count": 117,
   "metadata": {},
   "outputs": [],
   "source": [
    "df_c['Facing2']=df_c['Facing']"
   ]
  },
  {
   "cell_type": "code",
   "execution_count": 118,
   "metadata": {},
   "outputs": [],
   "source": [
    "df_cal=df_c.groupby(['Product','Date','Brand','Store_Names'\n",
    "               ]).agg({'OOS': lambda x: x.max(),\n",
    "                      'Facing':'mean',\n",
    "                      'Facing2':'sum'})"
   ]
  },
  {
   "cell_type": "code",
   "execution_count": 119,
   "metadata": {},
   "outputs": [],
   "source": [
    "df_cal.reset_index(inplace=True)"
   ]
  },
  {
   "cell_type": "code",
   "execution_count": 122,
   "metadata": {},
   "outputs": [
    {
     "name": "stdout",
     "output_type": "stream",
     "text": [
      "<class 'pandas.core.frame.DataFrame'>\n",
      "RangeIndex: 44713 entries, 0 to 44712\n",
      "Data columns (total 7 columns):\n",
      " #   Column       Non-Null Count  Dtype         \n",
      "---  ------       --------------  -----         \n",
      " 0   Product      44713 non-null  object        \n",
      " 1   Date         44713 non-null  datetime64[ns]\n",
      " 2   Brand        44713 non-null  object        \n",
      " 3   Store_Names  44713 non-null  object        \n",
      " 4   OOS          44713 non-null  int64         \n",
      " 5   Facing       44713 non-null  float64       \n",
      " 6   Facing2      44713 non-null  int64         \n",
      "dtypes: datetime64[ns](1), float64(1), int64(2), object(3)\n",
      "memory usage: 2.4+ MB\n"
     ]
    }
   ],
   "source": [
    "df_cal.info()"
   ]
  },
  {
   "cell_type": "code",
   "execution_count": 123,
   "metadata": {},
   "outputs": [],
   "source": [
    "df_final=pd.merge(df_size,\n",
    "                 df_cal,\n",
    "                 on=['Product','Date','Brand','Store_Names'],\n",
    "                 how='inner')"
   ]
  },
  {
   "cell_type": "code",
   "execution_count": 124,
   "metadata": {},
   "outputs": [
    {
     "data": {
      "text/html": [
       "<div>\n",
       "<style scoped>\n",
       "    .dataframe tbody tr th:only-of-type {\n",
       "        vertical-align: middle;\n",
       "    }\n",
       "\n",
       "    .dataframe tbody tr th {\n",
       "        vertical-align: top;\n",
       "    }\n",
       "\n",
       "    .dataframe thead th {\n",
       "        text-align: right;\n",
       "    }\n",
       "</style>\n",
       "<table border=\"1\" class=\"dataframe\">\n",
       "  <thead>\n",
       "    <tr style=\"text-align: right;\">\n",
       "      <th></th>\n",
       "      <th>Product</th>\n",
       "      <th>Brand</th>\n",
       "      <th>Manufacturer</th>\n",
       "      <th>Date</th>\n",
       "      <th>Store_Names</th>\n",
       "      <th>COC</th>\n",
       "      <th>sizes_available</th>\n",
       "      <th>OOS</th>\n",
       "      <th>Facing</th>\n",
       "      <th>Facing2</th>\n",
       "    </tr>\n",
       "  </thead>\n",
       "  <tbody>\n",
       "    <tr>\n",
       "      <th>0</th>\n",
       "      <td>1 Dakika Super Sac Kremi</td>\n",
       "      <td>Dove</td>\n",
       "      <td>Unilever</td>\n",
       "      <td>2019-12-09</td>\n",
       "      <td>Cekmekoy</td>\n",
       "      <td>NonCore</td>\n",
       "      <td>170ml</td>\n",
       "      <td>0</td>\n",
       "      <td>1.666667</td>\n",
       "      <td>5</td>\n",
       "    </tr>\n",
       "    <tr>\n",
       "      <th>1</th>\n",
       "      <td>1 Dakika Super Sac Kremi</td>\n",
       "      <td>Dove</td>\n",
       "      <td>Unilever</td>\n",
       "      <td>2019-12-09</td>\n",
       "      <td>Beylikduzu Koctas</td>\n",
       "      <td>NonCore</td>\n",
       "      <td>170ml</td>\n",
       "      <td>0</td>\n",
       "      <td>3.500000</td>\n",
       "      <td>21</td>\n",
       "    </tr>\n",
       "    <tr>\n",
       "      <th>2</th>\n",
       "      <td>1 Dakika Super Sac Kremi</td>\n",
       "      <td>Dove</td>\n",
       "      <td>Unilever</td>\n",
       "      <td>2019-12-10</td>\n",
       "      <td>Cekmekoy</td>\n",
       "      <td>NonCore</td>\n",
       "      <td>170ml</td>\n",
       "      <td>0</td>\n",
       "      <td>2.000000</td>\n",
       "      <td>6</td>\n",
       "    </tr>\n",
       "    <tr>\n",
       "      <th>3</th>\n",
       "      <td>1 Dakika Super Sac Kremi</td>\n",
       "      <td>Dove</td>\n",
       "      <td>Unilever</td>\n",
       "      <td>2019-12-10</td>\n",
       "      <td>Beylikduzu Koctas</td>\n",
       "      <td>NonCore</td>\n",
       "      <td>170ml</td>\n",
       "      <td>0</td>\n",
       "      <td>2.666667</td>\n",
       "      <td>16</td>\n",
       "    </tr>\n",
       "    <tr>\n",
       "      <th>4</th>\n",
       "      <td>1 Dakika Super Sac Kremi</td>\n",
       "      <td>Dove</td>\n",
       "      <td>Unilever</td>\n",
       "      <td>2019-12-11</td>\n",
       "      <td>Cekmekoy</td>\n",
       "      <td>NonCore</td>\n",
       "      <td>170ml</td>\n",
       "      <td>0</td>\n",
       "      <td>2.000000</td>\n",
       "      <td>6</td>\n",
       "    </tr>\n",
       "  </tbody>\n",
       "</table>\n",
       "</div>"
      ],
      "text/plain": [
       "                     Product Brand Manufacturer       Date        Store_Names  \\\n",
       "0  1 Dakika Super Sac Kremi   Dove     Unilever 2019-12-09           Cekmekoy   \n",
       "1  1 Dakika Super Sac Kremi   Dove     Unilever 2019-12-09  Beylikduzu Koctas   \n",
       "2  1 Dakika Super Sac Kremi   Dove     Unilever 2019-12-10           Cekmekoy   \n",
       "3  1 Dakika Super Sac Kremi   Dove     Unilever 2019-12-10  Beylikduzu Koctas   \n",
       "4  1 Dakika Super Sac Kremi   Dove     Unilever 2019-12-11           Cekmekoy   \n",
       "\n",
       "       COC sizes_available  OOS    Facing  Facing2  \n",
       "0  NonCore           170ml    0  1.666667        5  \n",
       "1  NonCore           170ml    0  3.500000       21  \n",
       "2  NonCore           170ml    0  2.000000        6  \n",
       "3  NonCore           170ml    0  2.666667       16  \n",
       "4  NonCore           170ml    0  2.000000        6  "
      ]
     },
     "execution_count": 124,
     "metadata": {},
     "output_type": "execute_result"
    }
   ],
   "source": [
    "df_final.head()"
   ]
  },
  {
   "cell_type": "code",
   "execution_count": 125,
   "metadata": {},
   "outputs": [
    {
     "name": "stdout",
     "output_type": "stream",
     "text": [
      "<class 'pandas.core.frame.DataFrame'>\n",
      "Int64Index: 44713 entries, 0 to 44712\n",
      "Data columns (total 10 columns):\n",
      " #   Column           Non-Null Count  Dtype         \n",
      "---  ------           --------------  -----         \n",
      " 0   Product          44713 non-null  object        \n",
      " 1   Brand            44713 non-null  object        \n",
      " 2   Manufacturer     44713 non-null  object        \n",
      " 3   Date             44713 non-null  datetime64[ns]\n",
      " 4   Store_Names      44713 non-null  object        \n",
      " 5   COC              44713 non-null  object        \n",
      " 6   sizes_available  44713 non-null  object        \n",
      " 7   OOS              44713 non-null  int64         \n",
      " 8   Facing           44713 non-null  float64       \n",
      " 9   Facing2          44713 non-null  int64         \n",
      "dtypes: datetime64[ns](1), float64(1), int64(2), object(6)\n",
      "memory usage: 3.8+ MB\n"
     ]
    }
   ],
   "source": [
    "df_final.info()"
   ]
  },
  {
   "cell_type": "code",
   "execution_count": 126,
   "metadata": {},
   "outputs": [],
   "source": [
    "df_final.to_excel('df_final.xlsx',index=False)"
   ]
  },
  {
   "cell_type": "code",
   "execution_count": 76,
   "metadata": {},
   "outputs": [
    {
     "data": {
      "text/html": [
       "<div>\n",
       "<style scoped>\n",
       "    .dataframe tbody tr th:only-of-type {\n",
       "        vertical-align: middle;\n",
       "    }\n",
       "\n",
       "    .dataframe tbody tr th {\n",
       "        vertical-align: top;\n",
       "    }\n",
       "\n",
       "    .dataframe thead th {\n",
       "        text-align: right;\n",
       "    }\n",
       "</style>\n",
       "<table border=\"1\" class=\"dataframe\">\n",
       "  <thead>\n",
       "    <tr style=\"text-align: right;\">\n",
       "      <th></th>\n",
       "      <th>Product</th>\n",
       "      <th>Brand</th>\n",
       "      <th>Manufacturer</th>\n",
       "      <th>Date</th>\n",
       "      <th>OOS</th>\n",
       "      <th>OSA</th>\n",
       "      <th>Facing</th>\n",
       "      <th>COC</th>\n",
       "      <th>Store_Names</th>\n",
       "      <th>sizes_available</th>\n",
       "      <th>Year_Month</th>\n",
       "    </tr>\n",
       "  </thead>\n",
       "  <tbody>\n",
       "  </tbody>\n",
       "</table>\n",
       "</div>"
      ],
      "text/plain": [
       "Empty DataFrame\n",
       "Columns: [Product, Brand, Manufacturer, Date, OOS, OSA, Facing, COC, Store_Names, sizes_available, Year_Month]\n",
       "Index: []"
      ]
     },
     "execution_count": 76,
     "metadata": {},
     "output_type": "execute_result"
    }
   ],
   "source": [
    "#df_size[(df_size['Product']=='Co-Creations Guclu ve Parlak Sampuan') ]\n",
    "        #& \n",
    "       # (df_size['Store_Names']=='Avantaj Ikitelli')] #& (df_size['Year_Month']=='2020-01')]"
   ]
  },
  {
   "cell_type": "raw",
   "metadata": {},
   "source": [
    "df['New']=df.groupby(['Product','Date','Facing','Brand','COC','Store_Names','Manufacturer'\n",
    "                      ,'Shelf','Position','Size','Product_Type','OSA','Shift']).cumcount()\n"
   ]
  },
  {
   "cell_type": "raw",
   "metadata": {},
   "source": [
    "newdf=df.pivot_table(values='OOS',index=['Product','Date','Facing','Brand','COC','Store_Names','Manufacturer'\n",
    "                      ,'Shelf','Position','Product_Type','OSA','Shift','New'],columns='Size').reset_index()\n"
   ]
  },
  {
   "cell_type": "code",
   "execution_count": 20,
   "metadata": {},
   "outputs": [],
   "source": [
    "newdf.fillna(0,inplace=True)"
   ]
  },
  {
   "cell_type": "code",
   "execution_count": 29,
   "metadata": {},
   "outputs": [
    {
     "name": "stdout",
     "output_type": "stream",
     "text": [
      "<class 'pandas.core.frame.DataFrame'>\n",
      "RangeIndex: 139198 entries, 0 to 139197\n",
      "Data columns (total 25 columns):\n",
      " #   Column                Non-Null Count   Dtype         \n",
      "---  ------                --------------   -----         \n",
      " 0   UPC                   139198 non-null  int64         \n",
      " 1   COC                   139198 non-null  object        \n",
      " 2   COC?                  139198 non-null  object        \n",
      " 3   Consolidated_UPC_CoC  0 non-null       float64       \n",
      " 4   Name                  139198 non-null  object        \n",
      " 5   Name_new              139198 non-null  object        \n",
      " 6   Product               139198 non-null  object        \n",
      " 7   StoreId               139198 non-null  int64         \n",
      " 8   ScanId                139198 non-null  int64         \n",
      " 9   Date                  139198 non-null  datetime64[ns]\n",
      " 10  Facing                139198 non-null  int64         \n",
      " 11  Shift                 139198 non-null  object        \n",
      " 12  Brand                 139198 non-null  object        \n",
      " 13  Category              138319 non-null  object        \n",
      " 14  Manufacturer          139198 non-null  object        \n",
      " 15  Aisle_Length          139198 non-null  int64         \n",
      " 16  Shelf                 139198 non-null  int64         \n",
      " 17  Position              139198 non-null  int64         \n",
      " 18  Size                  139198 non-null  object        \n",
      " 19  Product_Type          139198 non-null  object        \n",
      " 20  OSA                   139198 non-null  int64         \n",
      " 21  Store_Names           139198 non-null  object        \n",
      " 22  OOS                   139198 non-null  int64         \n",
      " 23  New                   139198 non-null  int64         \n",
      " 24  New2                  139198 non-null  int64         \n",
      "dtypes: datetime64[ns](1), float64(1), int64(11), object(12)\n",
      "memory usage: 26.6+ MB\n"
     ]
    }
   ],
   "source": [
    "df.info()"
   ]
  },
  {
   "cell_type": "code",
   "execution_count": 30,
   "metadata": {},
   "outputs": [
    {
     "name": "stdout",
     "output_type": "stream",
     "text": [
      "<class 'pandas.core.frame.DataFrame'>\n",
      "RangeIndex: 139198 entries, 0 to 139197\n",
      "Data columns (total 38 columns):\n",
      " #   Column         Non-Null Count   Dtype         \n",
      "---  ------         --------------   -----         \n",
      " 0   Product        139198 non-null  object        \n",
      " 1   Date           139198 non-null  datetime64[ns]\n",
      " 2   Facing         139198 non-null  int64         \n",
      " 3   Brand          139198 non-null  object        \n",
      " 4   COC            139198 non-null  object        \n",
      " 5   Store_Names    139198 non-null  object        \n",
      " 6   Manufacturer   139198 non-null  object        \n",
      " 7   Shelf          139198 non-null  int64         \n",
      " 8   Position       139198 non-null  int64         \n",
      " 9   Product_Type   139198 non-null  object        \n",
      " 10  OSA            139198 non-null  int64         \n",
      " 11  Shift          139198 non-null  object        \n",
      " 12  New            139198 non-null  int64         \n",
      " 13  100ml          139198 non-null  float64       \n",
      " 14  150ml          139198 non-null  float64       \n",
      " 15  170ml          139198 non-null  float64       \n",
      " 16  180ml          139198 non-null  float64       \n",
      " 17  2 x 500ml      139198 non-null  float64       \n",
      " 18  200ml          139198 non-null  float64       \n",
      " 19  250ml          139198 non-null  float64       \n",
      " 20  275ml          139198 non-null  float64       \n",
      " 21  300ml          139198 non-null  float64       \n",
      " 22  360ml          139198 non-null  float64       \n",
      " 23  400ml          139198 non-null  float64       \n",
      " 24  450ml          139198 non-null  float64       \n",
      " 25  470ml          139198 non-null  float64       \n",
      " 26  480ml          139198 non-null  float64       \n",
      " 27  500ml          139198 non-null  float64       \n",
      " 28  500ml + 180ml  139198 non-null  float64       \n",
      " 29  520ml          139198 non-null  float64       \n",
      " 30  525ml          139198 non-null  float64       \n",
      " 31  550ml          139198 non-null  float64       \n",
      " 32  600ml          139198 non-null  float64       \n",
      " 33  650ml          139198 non-null  float64       \n",
      " 34  700ml          139198 non-null  float64       \n",
      " 35  75ml           139198 non-null  float64       \n",
      " 36  No Size        139198 non-null  float64       \n",
      " 37  New2           139198 non-null  int64         \n",
      "dtypes: datetime64[ns](1), float64(24), int64(6), object(7)\n",
      "memory usage: 40.4+ MB\n"
     ]
    }
   ],
   "source": [
    "newdf.info()"
   ]
  },
  {
   "cell_type": "code",
   "execution_count": 28,
   "metadata": {
    "scrolled": false
   },
   "outputs": [
    {
     "data": {
      "text/html": [
       "<div>\n",
       "<style scoped>\n",
       "    .dataframe tbody tr th:only-of-type {\n",
       "        vertical-align: middle;\n",
       "    }\n",
       "\n",
       "    .dataframe tbody tr th {\n",
       "        vertical-align: top;\n",
       "    }\n",
       "\n",
       "    .dataframe thead th {\n",
       "        text-align: right;\n",
       "    }\n",
       "</style>\n",
       "<table border=\"1\" class=\"dataframe\">\n",
       "  <thead>\n",
       "    <tr style=\"text-align: right;\">\n",
       "      <th>Size</th>\n",
       "      <th>Product</th>\n",
       "      <th>Date</th>\n",
       "      <th>Facing</th>\n",
       "      <th>Brand</th>\n",
       "      <th>COC</th>\n",
       "      <th>Store_Names</th>\n",
       "      <th>Manufacturer</th>\n",
       "      <th>Shelf</th>\n",
       "      <th>Position</th>\n",
       "      <th>Product_Type</th>\n",
       "      <th>OSA</th>\n",
       "      <th>Shift</th>\n",
       "      <th>New</th>\n",
       "      <th>100ml</th>\n",
       "      <th>150ml</th>\n",
       "      <th>170ml</th>\n",
       "      <th>180ml</th>\n",
       "      <th>2 x 500ml</th>\n",
       "      <th>200ml</th>\n",
       "      <th>250ml</th>\n",
       "      <th>275ml</th>\n",
       "      <th>300ml</th>\n",
       "      <th>360ml</th>\n",
       "      <th>400ml</th>\n",
       "      <th>450ml</th>\n",
       "      <th>470ml</th>\n",
       "      <th>480ml</th>\n",
       "      <th>500ml</th>\n",
       "      <th>500ml + 180ml</th>\n",
       "      <th>520ml</th>\n",
       "      <th>525ml</th>\n",
       "      <th>550ml</th>\n",
       "      <th>600ml</th>\n",
       "      <th>650ml</th>\n",
       "      <th>700ml</th>\n",
       "      <th>75ml</th>\n",
       "      <th>No Size</th>\n",
       "      <th>New2</th>\n",
       "    </tr>\n",
       "  </thead>\n",
       "  <tbody>\n",
       "    <tr>\n",
       "      <th>195</th>\n",
       "      <td>1 Dakika Super Sac Kremi</td>\n",
       "      <td>2020-01-03</td>\n",
       "      <td>0</td>\n",
       "      <td>Dove</td>\n",
       "      <td>NonCore</td>\n",
       "      <td>Cekmekoy</td>\n",
       "      <td>Unilever</td>\n",
       "      <td>2</td>\n",
       "      <td>27</td>\n",
       "      <td>Krem</td>\n",
       "      <td>0</td>\n",
       "      <td>evening</td>\n",
       "      <td>0</td>\n",
       "      <td>0.0</td>\n",
       "      <td>0.0</td>\n",
       "      <td>1.0</td>\n",
       "      <td>0.0</td>\n",
       "      <td>0.0</td>\n",
       "      <td>0.0</td>\n",
       "      <td>0.0</td>\n",
       "      <td>0.0</td>\n",
       "      <td>0.0</td>\n",
       "      <td>0.0</td>\n",
       "      <td>0.0</td>\n",
       "      <td>0.0</td>\n",
       "      <td>0.0</td>\n",
       "      <td>0.0</td>\n",
       "      <td>0.0</td>\n",
       "      <td>0.0</td>\n",
       "      <td>0.0</td>\n",
       "      <td>0.0</td>\n",
       "      <td>0.0</td>\n",
       "      <td>0.0</td>\n",
       "      <td>0.0</td>\n",
       "      <td>0.0</td>\n",
       "      <td>0.0</td>\n",
       "      <td>0.0</td>\n",
       "      <td>0</td>\n",
       "    </tr>\n",
       "    <tr>\n",
       "      <th>222</th>\n",
       "      <td>1 Dakika Super Sac Kremi</td>\n",
       "      <td>2020-01-06</td>\n",
       "      <td>0</td>\n",
       "      <td>Dove</td>\n",
       "      <td>NonCore</td>\n",
       "      <td>Beylikduzu Koctas</td>\n",
       "      <td>Unilever</td>\n",
       "      <td>2</td>\n",
       "      <td>5</td>\n",
       "      <td>Krem</td>\n",
       "      <td>0</td>\n",
       "      <td>evening</td>\n",
       "      <td>0</td>\n",
       "      <td>0.0</td>\n",
       "      <td>0.0</td>\n",
       "      <td>1.0</td>\n",
       "      <td>0.0</td>\n",
       "      <td>0.0</td>\n",
       "      <td>0.0</td>\n",
       "      <td>0.0</td>\n",
       "      <td>0.0</td>\n",
       "      <td>0.0</td>\n",
       "      <td>0.0</td>\n",
       "      <td>0.0</td>\n",
       "      <td>0.0</td>\n",
       "      <td>0.0</td>\n",
       "      <td>0.0</td>\n",
       "      <td>0.0</td>\n",
       "      <td>0.0</td>\n",
       "      <td>0.0</td>\n",
       "      <td>0.0</td>\n",
       "      <td>0.0</td>\n",
       "      <td>0.0</td>\n",
       "      <td>0.0</td>\n",
       "      <td>0.0</td>\n",
       "      <td>0.0</td>\n",
       "      <td>0.0</td>\n",
       "      <td>0</td>\n",
       "    </tr>\n",
       "    <tr>\n",
       "      <th>231</th>\n",
       "      <td>1 Dakika Super Sac Kremi</td>\n",
       "      <td>2020-01-07</td>\n",
       "      <td>0</td>\n",
       "      <td>Dove</td>\n",
       "      <td>NonCore</td>\n",
       "      <td>Beylikduzu Koctas</td>\n",
       "      <td>Unilever</td>\n",
       "      <td>2</td>\n",
       "      <td>5</td>\n",
       "      <td>Krem</td>\n",
       "      <td>0</td>\n",
       "      <td>morning</td>\n",
       "      <td>0</td>\n",
       "      <td>0.0</td>\n",
       "      <td>0.0</td>\n",
       "      <td>1.0</td>\n",
       "      <td>0.0</td>\n",
       "      <td>0.0</td>\n",
       "      <td>0.0</td>\n",
       "      <td>0.0</td>\n",
       "      <td>0.0</td>\n",
       "      <td>0.0</td>\n",
       "      <td>0.0</td>\n",
       "      <td>0.0</td>\n",
       "      <td>0.0</td>\n",
       "      <td>0.0</td>\n",
       "      <td>0.0</td>\n",
       "      <td>0.0</td>\n",
       "      <td>0.0</td>\n",
       "      <td>0.0</td>\n",
       "      <td>0.0</td>\n",
       "      <td>0.0</td>\n",
       "      <td>0.0</td>\n",
       "      <td>0.0</td>\n",
       "      <td>0.0</td>\n",
       "      <td>0.0</td>\n",
       "      <td>0.0</td>\n",
       "      <td>0</td>\n",
       "    </tr>\n",
       "    <tr>\n",
       "      <th>267</th>\n",
       "      <td>1 Dakika Super Sac Kremi</td>\n",
       "      <td>2020-01-11</td>\n",
       "      <td>0</td>\n",
       "      <td>Dove</td>\n",
       "      <td>NonCore</td>\n",
       "      <td>Beylikduzu Koctas</td>\n",
       "      <td>Unilever</td>\n",
       "      <td>2</td>\n",
       "      <td>15</td>\n",
       "      <td>Krem</td>\n",
       "      <td>0</td>\n",
       "      <td>evening</td>\n",
       "      <td>0</td>\n",
       "      <td>0.0</td>\n",
       "      <td>0.0</td>\n",
       "      <td>1.0</td>\n",
       "      <td>0.0</td>\n",
       "      <td>0.0</td>\n",
       "      <td>0.0</td>\n",
       "      <td>0.0</td>\n",
       "      <td>0.0</td>\n",
       "      <td>0.0</td>\n",
       "      <td>0.0</td>\n",
       "      <td>0.0</td>\n",
       "      <td>0.0</td>\n",
       "      <td>0.0</td>\n",
       "      <td>0.0</td>\n",
       "      <td>0.0</td>\n",
       "      <td>0.0</td>\n",
       "      <td>0.0</td>\n",
       "      <td>0.0</td>\n",
       "      <td>0.0</td>\n",
       "      <td>0.0</td>\n",
       "      <td>0.0</td>\n",
       "      <td>0.0</td>\n",
       "      <td>0.0</td>\n",
       "      <td>0.0</td>\n",
       "      <td>0</td>\n",
       "    </tr>\n",
       "    <tr>\n",
       "      <th>272</th>\n",
       "      <td>1 Dakika Super Sac Kremi</td>\n",
       "      <td>2020-01-12</td>\n",
       "      <td>0</td>\n",
       "      <td>Dove</td>\n",
       "      <td>NonCore</td>\n",
       "      <td>Beylikduzu Koctas</td>\n",
       "      <td>Unilever</td>\n",
       "      <td>2</td>\n",
       "      <td>15</td>\n",
       "      <td>Krem</td>\n",
       "      <td>0</td>\n",
       "      <td>afternoon</td>\n",
       "      <td>0</td>\n",
       "      <td>0.0</td>\n",
       "      <td>0.0</td>\n",
       "      <td>1.0</td>\n",
       "      <td>0.0</td>\n",
       "      <td>0.0</td>\n",
       "      <td>0.0</td>\n",
       "      <td>0.0</td>\n",
       "      <td>0.0</td>\n",
       "      <td>0.0</td>\n",
       "      <td>0.0</td>\n",
       "      <td>0.0</td>\n",
       "      <td>0.0</td>\n",
       "      <td>0.0</td>\n",
       "      <td>0.0</td>\n",
       "      <td>0.0</td>\n",
       "      <td>0.0</td>\n",
       "      <td>0.0</td>\n",
       "      <td>0.0</td>\n",
       "      <td>0.0</td>\n",
       "      <td>0.0</td>\n",
       "      <td>0.0</td>\n",
       "      <td>0.0</td>\n",
       "      <td>0.0</td>\n",
       "      <td>0.0</td>\n",
       "      <td>0</td>\n",
       "    </tr>\n",
       "  </tbody>\n",
       "</table>\n",
       "</div>"
      ],
      "text/plain": [
       "Size                    Product       Date  Facing Brand      COC  \\\n",
       "195   1 Dakika Super Sac Kremi  2020-01-03       0  Dove  NonCore   \n",
       "222   1 Dakika Super Sac Kremi  2020-01-06       0  Dove  NonCore   \n",
       "231   1 Dakika Super Sac Kremi  2020-01-07       0  Dove  NonCore   \n",
       "267   1 Dakika Super Sac Kremi  2020-01-11       0  Dove  NonCore   \n",
       "272   1 Dakika Super Sac Kremi  2020-01-12       0  Dove  NonCore   \n",
       "\n",
       "Size        Store_Names Manufacturer  Shelf  Position Product_Type  OSA  \\\n",
       "195            Cekmekoy     Unilever      2        27         Krem    0   \n",
       "222   Beylikduzu Koctas     Unilever      2         5         Krem    0   \n",
       "231   Beylikduzu Koctas     Unilever      2         5         Krem    0   \n",
       "267   Beylikduzu Koctas     Unilever      2        15         Krem    0   \n",
       "272   Beylikduzu Koctas     Unilever      2        15         Krem    0   \n",
       "\n",
       "Size      Shift  New  100ml  150ml  170ml  180ml  2 x 500ml  200ml  250ml  \\\n",
       "195     evening    0    0.0    0.0    1.0    0.0        0.0    0.0    0.0   \n",
       "222     evening    0    0.0    0.0    1.0    0.0        0.0    0.0    0.0   \n",
       "231     morning    0    0.0    0.0    1.0    0.0        0.0    0.0    0.0   \n",
       "267     evening    0    0.0    0.0    1.0    0.0        0.0    0.0    0.0   \n",
       "272   afternoon    0    0.0    0.0    1.0    0.0        0.0    0.0    0.0   \n",
       "\n",
       "Size  275ml  300ml  360ml  400ml  450ml  470ml  480ml  500ml  500ml + 180ml  \\\n",
       "195     0.0    0.0    0.0    0.0    0.0    0.0    0.0    0.0            0.0   \n",
       "222     0.0    0.0    0.0    0.0    0.0    0.0    0.0    0.0            0.0   \n",
       "231     0.0    0.0    0.0    0.0    0.0    0.0    0.0    0.0            0.0   \n",
       "267     0.0    0.0    0.0    0.0    0.0    0.0    0.0    0.0            0.0   \n",
       "272     0.0    0.0    0.0    0.0    0.0    0.0    0.0    0.0            0.0   \n",
       "\n",
       "Size  520ml  525ml  550ml  600ml  650ml  700ml  75ml  No Size  New2  \n",
       "195     0.0    0.0    0.0    0.0    0.0    0.0   0.0      0.0     0  \n",
       "222     0.0    0.0    0.0    0.0    0.0    0.0   0.0      0.0     0  \n",
       "231     0.0    0.0    0.0    0.0    0.0    0.0   0.0      0.0     0  \n",
       "267     0.0    0.0    0.0    0.0    0.0    0.0   0.0      0.0     0  \n",
       "272     0.0    0.0    0.0    0.0    0.0    0.0   0.0      0.0     0  "
      ]
     },
     "execution_count": 28,
     "metadata": {},
     "output_type": "execute_result"
    }
   ],
   "source": [
    "newdf[newdf['OSA']==0].head()"
   ]
  },
  {
   "cell_type": "code",
   "execution_count": 31,
   "metadata": {},
   "outputs": [],
   "source": [
    "newdf.to_csv('new_df.csv',index=False)"
   ]
  },
  {
   "cell_type": "code",
   "execution_count": 32,
   "metadata": {},
   "outputs": [
    {
     "data": {
      "text/plain": [
       "'/Users/gunsu/Desktop'"
      ]
     },
     "execution_count": 32,
     "metadata": {},
     "output_type": "execute_result"
    }
   ],
   "source": [
    "%pwd"
   ]
  },
  {
   "cell_type": "code",
   "execution_count": 24,
   "metadata": {},
   "outputs": [],
   "source": [
    "df['New2']=df.groupby(['Product','Date','Facing','Brand','COC','Store_Names','Manufacturer'\n",
    "                      ,'Shelf','Position','Size','Product_Type','OSA','Shift']).cumcount()"
   ]
  },
  {
   "cell_type": "raw",
   "metadata": {},
   "source": [
    "!pip install pygsheets"
   ]
  },
  {
   "cell_type": "raw",
   "metadata": {},
   "source": [
    "!pip install gspread"
   ]
  },
  {
   "cell_type": "code",
   "execution_count": null,
   "metadata": {},
   "outputs": [],
   "source": [
    "import pygsheets"
   ]
  },
  {
   "cell_type": "raw",
   "metadata": {},
   "source": [
    "gc=pygsheets.authorize(client_secret='ghtojupyter28596-a882b1450011.json')"
   ]
  },
  {
   "cell_type": "raw",
   "metadata": {},
   "source": [
    "sh=gc.open('Gunsu_Unilever')"
   ]
  },
  {
   "cell_type": "raw",
   "metadata": {},
   "source": [
    "!pip install --upgrade google-auth\n"
   ]
  },
  {
   "cell_type": "raw",
   "metadata": {},
   "source": [
    "!pip install gspread-dataframe\n"
   ]
  },
  {
   "cell_type": "code",
   "execution_count": null,
   "metadata": {},
   "outputs": [],
   "source": [
    "from gspread_dataframe import get_as_dataframe, set_with_dataframe\n"
   ]
  },
  {
   "cell_type": "code",
   "execution_count": null,
   "metadata": {},
   "outputs": [],
   "source": [
    "import gspread\n",
    "from google.oauth2.service_account import Credentials\n",
    "\n",
    "scope = ['https://spreadsheets.google.com/feeds',\n",
    "         'https://www.googleapis.com/auth/drive']\n",
    "\n",
    "credentials = Credentials.from_service_account_file('ghtojupyter28596-a882b1450011.json', scopes=scope)\n",
    "\n",
    "gc = gspread.authorize(credentials)\n",
    "\n",
    "df_cek = gc.open(\"Cekmekoy\").sheet1\n",
    "df_bey = gc.open(\"Beylikduzu\").sheet1\n",
    "df_ava = gc.open(\"Avantaj\").sheet1\n",
    "df_ata = gc.open(\"Atakent\").sheet1\n",
    "\n"
   ]
  },
  {
   "cell_type": "code",
   "execution_count": null,
   "metadata": {},
   "outputs": [],
   "source": [
    "bey=get_as_dataframe(df_bey)"
   ]
  },
  {
   "cell_type": "code",
   "execution_count": null,
   "metadata": {},
   "outputs": [],
   "source": [
    "bey.info()"
   ]
  },
  {
   "cell_type": "code",
   "execution_count": null,
   "metadata": {},
   "outputs": [],
   "source": [
    "ata=get_as_dataframe(df_ata)"
   ]
  },
  {
   "cell_type": "code",
   "execution_count": null,
   "metadata": {},
   "outputs": [],
   "source": [
    "ata.info()"
   ]
  },
  {
   "cell_type": "code",
   "execution_count": null,
   "metadata": {},
   "outputs": [],
   "source": [
    "ata.iloc[:1]"
   ]
  },
  {
   "cell_type": "code",
   "execution_count": null,
   "metadata": {},
   "outputs": [],
   "source": [
    "ata.info()"
   ]
  },
  {
   "cell_type": "code",
   "execution_count": null,
   "metadata": {},
   "outputs": [],
   "source": [
    "ava=get_as_dataframe(df_ava)"
   ]
  },
  {
   "cell_type": "code",
   "execution_count": null,
   "metadata": {},
   "outputs": [],
   "source": [
    "ava.iloc[:1]"
   ]
  },
  {
   "cell_type": "code",
   "execution_count": null,
   "metadata": {},
   "outputs": [],
   "source": [
    "cek=get_as_dataframe(df_cek)"
   ]
  },
  {
   "cell_type": "code",
   "execution_count": null,
   "metadata": {},
   "outputs": [],
   "source": [
    "cek.info()"
   ]
  },
  {
   "cell_type": "code",
   "execution_count": null,
   "metadata": {},
   "outputs": [],
   "source": [
    "cek.iloc[:1]"
   ]
  },
  {
   "cell_type": "code",
   "execution_count": null,
   "metadata": {},
   "outputs": [],
   "source": [
    "df = pd.concat([cek, ata,bey, ava], ignore_index=True)"
   ]
  },
  {
   "cell_type": "code",
   "execution_count": null,
   "metadata": {},
   "outputs": [],
   "source": [
    "df.dropna(how='all',inplace=True)"
   ]
  },
  {
   "cell_type": "code",
   "execution_count": null,
   "metadata": {},
   "outputs": [],
   "source": [
    "df.drop(columns=['Unnamed: 18','Unnamed: 19','SKU Type','26w $volume%',\n",
    "                 'Store_Size','Brand Size','SKU Type','SKU Type2'],inplace=True)"
   ]
  },
  {
   "cell_type": "code",
   "execution_count": null,
   "metadata": {},
   "outputs": [],
   "source": [
    "df.head()"
   ]
  },
  {
   "cell_type": "code",
   "execution_count": null,
   "metadata": {},
   "outputs": [],
   "source": [
    "df.to_csv('raw.csv',index=False)"
   ]
  },
  {
   "cell_type": "raw",
   "metadata": {},
   "source": [
    "dfs = [get_as_dataframe(x) for x in df_ls]"
   ]
  },
  {
   "cell_type": "code",
   "execution_count": null,
   "metadata": {},
   "outputs": [],
   "source": [
    "df.head(2)"
   ]
  },
  {
   "cell_type": "code",
   "execution_count": null,
   "metadata": {},
   "outputs": [],
   "source": [
    "df['UPC'] = df['UPC'].astype('int')"
   ]
  },
  {
   "cell_type": "code",
   "execution_count": null,
   "metadata": {},
   "outputs": [],
   "source": [
    "df['ScanId'] = df['ScanId'].astype('int')"
   ]
  },
  {
   "cell_type": "code",
   "execution_count": null,
   "metadata": {},
   "outputs": [],
   "source": [
    "df['Created Time']=pd.to_datetime(df['Created Time'])"
   ]
  },
  {
   "cell_type": "code",
   "execution_count": null,
   "metadata": {},
   "outputs": [],
   "source": [
    "#df2=df.iloc[:,:10]"
   ]
  },
  {
   "cell_type": "code",
   "execution_count": null,
   "metadata": {},
   "outputs": [],
   "source": [
    "%pwd"
   ]
  },
  {
   "cell_type": "code",
   "execution_count": null,
   "metadata": {},
   "outputs": [],
   "source": [
    "df1=df.copy()"
   ]
  },
  {
   "cell_type": "code",
   "execution_count": null,
   "metadata": {},
   "outputs": [],
   "source": [
    "df_m=pd.read_excel('master_uni.xlsx',index_col=False)"
   ]
  },
  {
   "cell_type": "code",
   "execution_count": null,
   "metadata": {},
   "outputs": [],
   "source": [
    "df_m.head()"
   ]
  },
  {
   "cell_type": "code",
   "execution_count": null,
   "metadata": {},
   "outputs": [],
   "source": [
    "df_m.info()"
   ]
  },
  {
   "cell_type": "code",
   "execution_count": null,
   "metadata": {},
   "outputs": [],
   "source": [
    "df2=pd.merge(df1,\n",
    "            df_m,\n",
    "            on='UPC',\n",
    "            how='left')"
   ]
  },
  {
   "cell_type": "code",
   "execution_count": null,
   "metadata": {},
   "outputs": [],
   "source": [
    "df2['Facing'] = df2['Facing'].fillna(0.0)\n"
   ]
  },
  {
   "cell_type": "code",
   "execution_count": null,
   "metadata": {},
   "outputs": [],
   "source": [
    "df2['OSA'] = [1 if x >0 else 0 for x in df2['Facing']]"
   ]
  },
  {
   "cell_type": "code",
   "execution_count": null,
   "metadata": {},
   "outputs": [],
   "source": [
    "def storeNames(df2):\n",
    "    if df2.StoreId==53.0:\n",
    "        return \"Beylikduzu Koctas\"\n",
    "    elif df2.StoreId==52.0:\n",
    "        return \"Cekmekoy\"\n",
    "    elif df2.StoreId==51.0:\n",
    "        return \"Atakent\"\n",
    "    elif df2.StoreId==54.0:\n",
    "        return 'Avantaj Ikitelli'\n",
    "\n",
    "\n",
    "df2['Store_Names']=df2.apply(storeNames,axis=1)"
   ]
  },
  {
   "cell_type": "code",
   "execution_count": null,
   "metadata": {},
   "outputs": [],
   "source": [
    "df2['OOS'] = [1 if x==0 else 0 for x in df2['OSA']]"
   ]
  },
  {
   "cell_type": "code",
   "execution_count": null,
   "metadata": {},
   "outputs": [],
   "source": [
    "df2.drop(columns=['daysdiff','cons'],inplace=True)"
   ]
  },
  {
   "cell_type": "code",
   "execution_count": null,
   "metadata": {},
   "outputs": [],
   "source": [
    "df2.head()"
   ]
  },
  {
   "cell_type": "code",
   "execution_count": null,
   "metadata": {},
   "outputs": [],
   "source": [
    "df2.to_csv('df_uni.csv',index=False)"
   ]
  },
  {
   "cell_type": "code",
   "execution_count": null,
   "metadata": {},
   "outputs": [],
   "source": []
  },
  {
   "cell_type": "code",
   "execution_count": null,
   "metadata": {},
   "outputs": [],
   "source": []
  },
  {
   "cell_type": "code",
   "execution_count": null,
   "metadata": {},
   "outputs": [],
   "source": []
  },
  {
   "cell_type": "code",
   "execution_count": null,
   "metadata": {},
   "outputs": [],
   "source": []
  },
  {
   "cell_type": "code",
   "execution_count": null,
   "metadata": {},
   "outputs": [],
   "source": []
  },
  {
   "cell_type": "code",
   "execution_count": null,
   "metadata": {},
   "outputs": [],
   "source": []
  },
  {
   "cell_type": "code",
   "execution_count": null,
   "metadata": {},
   "outputs": [],
   "source": []
  },
  {
   "cell_type": "code",
   "execution_count": null,
   "metadata": {},
   "outputs": [],
   "source": []
  },
  {
   "cell_type": "code",
   "execution_count": null,
   "metadata": {},
   "outputs": [],
   "source": [
    "df1['Size'] = df1['Name'].str.rsplit(' ').str[-1] "
   ]
  },
  {
   "cell_type": "code",
   "execution_count": null,
   "metadata": {},
   "outputs": [],
   "source": [
    "df1.head(2)"
   ]
  },
  {
   "cell_type": "raw",
   "metadata": {},
   "source": [
    "df1.dropna(subset=['Facing'],inplace=True)"
   ]
  },
  {
   "cell_type": "code",
   "execution_count": null,
   "metadata": {},
   "outputs": [],
   "source": [
    "df1['Facing'] = df1['Facing'].fillna(0.0)\n"
   ]
  },
  {
   "cell_type": "code",
   "execution_count": null,
   "metadata": {
    "scrolled": false
   },
   "outputs": [],
   "source": [
    "df1['Product_Type'] = pd.np.where(df1.Name.str.contains('(?:Krem|krem|Kremi|Conditioner)',\n",
    "                                        regex=True), \"Krem\",\n",
    "                   pd.np.where(df1.Name.str.contains('(?:Sampuan|2si 1 arada|Shampoo|Temel Bakim Ekonomik Boy 2si 1 Arada|Kepege Karsi Etkili Ekonomik Boy 2si 1 Arada|Dove Uzun Sac Terapisi 600 ml|\\\n",
    "                                                     2si 1 Arada|Sac Derisi Rahatlatici|\\\n",
    "                                                     Dove Uzun Sac Terapisi|Elseve Arginine Direnc Ozel Fiyat|Head & Shoulders Kadinlara Ozel Sac Dokulmelerine Karsi)',\n",
    "                                        regex=True), \"Sampuan\",\n",
    "                   pd.np.where(df1.Name.str.contains('(?:Elixir|mask|Gloss|Intense Therapy|Mask|Maske|Iksiri|Yag|Oil|Bakim Sprey|Therapy\\\n",
    "                                                     |Onarici)',\n",
    "                                        regex=True), \"others\", \"others\")))\n"
   ]
  },
  {
   "cell_type": "code",
   "execution_count": null,
   "metadata": {
    "scrolled": false
   },
   "outputs": [],
   "source": [
    "df1['Size']=pd.np.where(df1.Name.str.contains('(?:Dove Uzun Sac Terapisi 600 ml ( Pink ))',\n",
    "                                        regex=True), \"600ml\",df1['Size'])"
   ]
  },
  {
   "cell_type": "code",
   "execution_count": null,
   "metadata": {},
   "outputs": [],
   "source": [
    "df1['Size']=pd.np.where(df1.Name.str.contains('',\n",
    "                                        regex=True), \"450ml\",df1['Size'])',\n",
    "                                        regex=True), \"450ml\",df1['Size'])"
   ]
  },
  {
   "cell_type": "code",
   "execution_count": null,
   "metadata": {},
   "outputs": [],
   "source": [
    "df1['Size']=pd.np.where(df1.Name.str.contains('(?:Pack)',\n",
    "                                        regex=True), \"360ml + 150 mL\",df1['Size'])"
   ]
  },
  {
   "cell_type": "code",
   "execution_count": null,
   "metadata": {},
   "outputs": [],
   "source": [
    "df1['Size']=pd.np.where(df1.Name.str.contains('(?:Fiyat)',\n",
    "                                        regex=True), \"No Size\",df1['Size'])"
   ]
  },
  {
   "cell_type": "code",
   "execution_count": null,
   "metadata": {},
   "outputs": [],
   "source": [
    "df1['Size']=pd.np.where(df1.Name.str.contains('(?:Paketi|Hediye|Promo (black))',\n",
    "                                        regex=True), \"No Size\",df1['Size'])"
   ]
  },
  {
   "cell_type": "code",
   "execution_count": null,
   "metadata": {},
   "outputs": [],
   "source": [
    "df1['Size']=df1.Size.apply(lambda x: \"275ml\" if x=='ml' else x )"
   ]
  },
  {
   "cell_type": "code",
   "execution_count": null,
   "metadata": {},
   "outputs": [],
   "source": [
    "df1['Size']=df1.Size.apply(lambda x: \"400ml\" if x=='(red)' else x )"
   ]
  },
  {
   "cell_type": "code",
   "execution_count": null,
   "metadata": {},
   "outputs": [],
   "source": [
    "df1['Size']=df1.Size.apply(lambda x: \"150ml\" if x=='center)' else x )"
   ]
  },
  {
   "cell_type": "code",
   "execution_count": null,
   "metadata": {},
   "outputs": [],
   "source": [
    "df1['Size']=df1.Size.apply(lambda x: \"400ml\" if x=='(grey)' else x )"
   ]
  },
  {
   "cell_type": "code",
   "execution_count": null,
   "metadata": {},
   "outputs": [],
   "source": [
    "df1['Size']=df1.Size.apply(lambda x: \"No Size\" if x=='(black)' else x )"
   ]
  },
  {
   "cell_type": "code",
   "execution_count": null,
   "metadata": {},
   "outputs": [],
   "source": [
    "df1['Size']=df1.Size.apply(lambda x: \"No Size\" if x=='(white)' else x )"
   ]
  },
  {
   "cell_type": "code",
   "execution_count": null,
   "metadata": {},
   "outputs": [],
   "source": [
    "df1['Size']=df1.Size.apply(lambda x: \"No Size\" if x=='(gold)' else x )"
   ]
  },
  {
   "cell_type": "code",
   "execution_count": null,
   "metadata": {},
   "outputs": [],
   "source": [
    "df1['Size']=df1.Size.apply(lambda x: \"500ml\" if x==')' else x )"
   ]
  },
  {
   "cell_type": "code",
   "execution_count": null,
   "metadata": {},
   "outputs": [],
   "source": [
    "df1['Size']=df1.Size.apply(lambda x: \"400ml\" if x=='(orange)' else x )"
   ]
  },
  {
   "cell_type": "code",
   "execution_count": null,
   "metadata": {},
   "outputs": [],
   "source": [
    "df1['Size']=df1.Size.apply(lambda x: \"No Size\" if x=='(brown)' else x )"
   ]
  },
  {
   "cell_type": "code",
   "execution_count": null,
   "metadata": {},
   "outputs": [],
   "source": [
    "df1['Size']=df1.Size.apply(lambda x: \"No Size\" if x=='(purple)' else x )"
   ]
  },
  {
   "cell_type": "code",
   "execution_count": null,
   "metadata": {},
   "outputs": [],
   "source": [
    "df1['Size']=df1.Size.apply(lambda x: \"No Size\" if x=='Shampoo' else x )"
   ]
  },
  {
   "cell_type": "code",
   "execution_count": null,
   "metadata": {},
   "outputs": [],
   "source": [
    "df1['Size']=df1.Size.apply(lambda x: \"No Size\" if x=='(pink)' else x )"
   ]
  },
  {
   "cell_type": "code",
   "execution_count": null,
   "metadata": {},
   "outputs": [],
   "source": [
    "df1['Size']=df1[['Name','Size']].apply(lambda x: \"600ml\" if x['Name']=='Dove Uzun Sac Terapisi 600 ml ( Pink )'\\\n",
    "                           else x['Size'], axis=1)"
   ]
  },
  {
   "cell_type": "code",
   "execution_count": null,
   "metadata": {},
   "outputs": [],
   "source": [
    "df1['Size']=df1[['UPC','Size']].apply(lambda x: \"2 x 500ml\" if x['UPC']=='8001090858917.0'\\\n",
    "                           else x['Size'], axis=1)"
   ]
  },
  {
   "cell_type": "code",
   "execution_count": null,
   "metadata": {},
   "outputs": [],
   "source": [
    "df1['Product_Type']=df1[['UPC','Product_Type']].apply(lambda x: \"Sampuan\" if x['UPC']=='8697432094039.0'\\\n",
    "                           else x['Product_Type'], axis=1)"
   ]
  },
  {
   "cell_type": "code",
   "execution_count": null,
   "metadata": {
    "scrolled": true
   },
   "outputs": [],
   "source": [
    "df1[df1['Size']=='(pink)'].Name.to_list()"
   ]
  },
  {
   "cell_type": "code",
   "execution_count": null,
   "metadata": {},
   "outputs": [],
   "source": [
    "df1[df1['Product_Type']==\"\"].Name.value_counts()"
   ]
  },
  {
   "cell_type": "code",
   "execution_count": null,
   "metadata": {
    "scrolled": false
   },
   "outputs": [],
   "source": [
    "pd.DataFrame(df1[df1['Product_Type']=='others'].\\\n",
    "             groupby(['Brand','UPC','Name','Name_new','Size','Product_Type'])['UPC'].count())"
   ]
  },
  {
   "cell_type": "code",
   "execution_count": null,
   "metadata": {},
   "outputs": [],
   "source": [
    "remove_words=df1.Size.to_list()"
   ]
  },
  {
   "cell_type": "code",
   "execution_count": null,
   "metadata": {},
   "outputs": [],
   "source": [
    "pat = r'\\b(?:{})\\b'.format('|'.join(remove_words))"
   ]
  },
  {
   "cell_type": "code",
   "execution_count": null,
   "metadata": {},
   "outputs": [],
   "source": [
    "df1['Name_new'] = df1['Name'].str.replace(pat, '')"
   ]
  },
  {
   "cell_type": "raw",
   "metadata": {},
   "source": [
    "df1 = df1[df1['Facing'].notna()]\n"
   ]
  },
  {
   "cell_type": "code",
   "execution_count": null,
   "metadata": {},
   "outputs": [],
   "source": [
    "df1['OSA'] = [1 if x >0 else 0 for x in df1['Facing']]"
   ]
  },
  {
   "cell_type": "raw",
   "metadata": {},
   "source": [
    "df1['day_of_week']=df1['Created Time'].dt.dayofweek\n",
    "days = {0:'Mon',1:'Tues',2:'Weds',3:'Thurs',4:'Fri',5:'Sat',6:'Sun'}\n",
    "df1['day_of_week'] = df1['day_of_week'].apply(lambda x: days[x])"
   ]
  },
  {
   "cell_type": "raw",
   "metadata": {},
   "source": [
    "df1.drop(columns=['Krem','Sampuan'],inplace=True)"
   ]
  },
  {
   "cell_type": "code",
   "execution_count": null,
   "metadata": {},
   "outputs": [],
   "source": [
    "df1['Name_new'] = df1['Name_new'].str.replace('600 ml', '')"
   ]
  },
  {
   "cell_type": "code",
   "execution_count": null,
   "metadata": {},
   "outputs": [],
   "source": [
    "def storeNames(df1):\n",
    "    if df1.StoreId==53.0:\n",
    "        return \"Beylikduzu Koctas\"\n",
    "    elif df1.StoreId==52.0:\n",
    "        return \"Cekmekoy\"\n",
    "    elif df1.StoreId==51.0:\n",
    "        return \"Atakent\"\n",
    "    elif df1.StoreId==54.0:\n",
    "        return 'Avantaj Ikitelli'\n",
    "\n",
    "\n",
    "df1['Store_Names']=df1.apply(storeNames,axis=1)"
   ]
  },
  {
   "cell_type": "code",
   "execution_count": null,
   "metadata": {},
   "outputs": [],
   "source": [
    "df1.to_csv('uni.csv',index=False)"
   ]
  },
  {
   "cell_type": "code",
   "execution_count": null,
   "metadata": {},
   "outputs": [],
   "source": [
    "df_ava=df1[df1['Store_Names']=='Avantaj Ikitelli'][[\"UPC\",'Created Time','Facing','OSA']]"
   ]
  },
  {
   "cell_type": "code",
   "execution_count": null,
   "metadata": {},
   "outputs": [],
   "source": [
    "df_ava['Created Time']=pd.to_datetime(df_ava['Created Time'])"
   ]
  },
  {
   "cell_type": "code",
   "execution_count": null,
   "metadata": {},
   "outputs": [],
   "source": [
    "df_ava.rename(columns={'Created Time':\"Date\"},inplace=True)"
   ]
  },
  {
   "cell_type": "code",
   "execution_count": null,
   "metadata": {},
   "outputs": [],
   "source": [
    "df2.rename(columns={'Created Time':\"Date\"},inplace=True)"
   ]
  },
  {
   "cell_type": "raw",
   "metadata": {},
   "source": [
    "df2['Values']=df2.OSA.apply(lambda x: 1 if x==0 else 0)"
   ]
  },
  {
   "cell_type": "code",
   "execution_count": null,
   "metadata": {
    "scrolled": true
   },
   "outputs": [],
   "source": [
    "df1[(df1['UPC']=='3600521899861.0') & (df1['Values']==1)]"
   ]
  },
  {
   "cell_type": "code",
   "execution_count": null,
   "metadata": {},
   "outputs": [],
   "source": [
    "df2['UPC2']=df2.UPC"
   ]
  },
  {
   "cell_type": "code",
   "execution_count": null,
   "metadata": {},
   "outputs": [],
   "source": [
    "df2['daysdiff'] = df2.sort_values('Date').groupby(['UPC'])['Date'].diff()\n",
    "\n",
    "\n",
    "df2['cons'] = (df2.sort_values('Date').groupby('UPC')['daysdiff']\n",
    "                .apply(lambda x: (x.bfill().dt.days != 1).cumsum()))\n",
    "new=(df2.groupby(['UPC','cons'])['Date']\n",
    "        .agg({'OOS':'sum','Date':['min','max']})\n",
    "        .reset_index(level=1, drop=True))"
   ]
  },
  {
   "cell_type": "code",
   "execution_count": null,
   "metadata": {},
   "outputs": [],
   "source": [
    "new.reset_index(inplace=True)"
   ]
  },
  {
   "cell_type": "code",
   "execution_count": null,
   "metadata": {},
   "outputs": [],
   "source": [
    "new=pd.DataFrame(new)"
   ]
  },
  {
   "cell_type": "code",
   "execution_count": null,
   "metadata": {},
   "outputs": [],
   "source": [
    "new.head()"
   ]
  },
  {
   "cell_type": "code",
   "execution_count": null,
   "metadata": {},
   "outputs": [],
   "source": [
    "upc_3600521899861=df2[(df2['UPC']==3600521899861)& (df2['OSA']==0)]"
   ]
  },
  {
   "cell_type": "code",
   "execution_count": null,
   "metadata": {},
   "outputs": [],
   "source": [
    "upc_3600521899861"
   ]
  },
  {
   "cell_type": "code",
   "execution_count": null,
   "metadata": {},
   "outputs": [],
   "source": [
    "new.info()"
   ]
  },
  {
   "cell_type": "code",
   "execution_count": null,
   "metadata": {},
   "outputs": [],
   "source": [
    "new[(new['UPC']=='3600521899861.0') & (new[('OOS', 'sum')]!=0)]"
   ]
  },
  {
   "cell_type": "raw",
   "metadata": {},
   "source": [
    "def max_streak(s):\n",
    "        s1 = s.cumsum()\n",
    "        return s.mul(s1).diff().where(lambda x: x < 0) \\\n",
    "                .ffill().add(s1, fill_value=0).max()"
   ]
  },
  {
   "cell_type": "raw",
   "metadata": {},
   "source": [
    "streaks=df1.sort_values(['Date', 'UPC']) \\\n",
    "           .groupby(['UPC'])['Values'] \\\n",
    "           .agg(['size', max_streak]).round(2)\n"
   ]
  },
  {
   "cell_type": "raw",
   "metadata": {},
   "source": [
    "streaks.sort_values(by='count_streak',ascending=False)"
   ]
  },
  {
   "cell_type": "code",
   "execution_count": null,
   "metadata": {},
   "outputs": [],
   "source": [
    "df"
   ]
  },
  {
   "cell_type": "code",
   "execution_count": null,
   "metadata": {},
   "outputs": [],
   "source": []
  },
  {
   "cell_type": "code",
   "execution_count": null,
   "metadata": {},
   "outputs": [],
   "source": []
  },
  {
   "cell_type": "code",
   "execution_count": null,
   "metadata": {},
   "outputs": [],
   "source": [
    "df1.to_csv('df_uni.csv',index=False)"
   ]
  },
  {
   "cell_type": "code",
   "execution_count": null,
   "metadata": {},
   "outputs": [],
   "source": [
    "df1[df1['UPC']=='3600521900918.0'].sort_values( by='Date',ascending=True)"
   ]
  },
  {
   "cell_type": "code",
   "execution_count": null,
   "metadata": {
    "scrolled": true
   },
   "outputs": [],
   "source": [
    "df1[df1['Product_Type']=='Sampuan'].Name_new.value_counts().sort_index()#sort_values(by='Name_new',ascending=False)"
   ]
  },
  {
   "cell_type": "code",
   "execution_count": null,
   "metadata": {},
   "outputs": [],
   "source": [
    "filter1=df1['Name_new'].isin([\"Yumusak & Parlak Kiraz Cicegi Sampuan (pink)\", \n",
    "                                 \"Yumusak Parlak Kiraz Cicegi Sampuan (pink)\" ]).head()"
   ]
  },
  {
   "cell_type": "code",
   "execution_count": null,
   "metadata": {},
   "outputs": [],
   "source": [
    "df1[df1['Name_new']=='Yumusak & Parlak Kiraz Cicegi Sampuan (pink)']"
   ]
  },
  {
   "cell_type": "code",
   "execution_count": null,
   "metadata": {},
   "outputs": [],
   "source": []
  },
  {
   "cell_type": "code",
   "execution_count": null,
   "metadata": {},
   "outputs": [],
   "source": []
  },
  {
   "cell_type": "code",
   "execution_count": null,
   "metadata": {},
   "outputs": [],
   "source": []
  },
  {
   "cell_type": "code",
   "execution_count": null,
   "metadata": {},
   "outputs": [],
   "source": [
    "df1[(df1['Manufacturer']==\"L'Oreal\") & (df1['Created Time']==\"2019-12-09\") ]['OSA'].sum()"
   ]
  },
  {
   "cell_type": "code",
   "execution_count": null,
   "metadata": {},
   "outputs": [],
   "source": [
    "df1[df1['Created Time']==\"2019-12-09\" ]['OSA'].count()"
   ]
  },
  {
   "cell_type": "code",
   "execution_count": null,
   "metadata": {},
   "outputs": [],
   "source": [
    "df1.head(2)"
   ]
  },
  {
   "cell_type": "code",
   "execution_count": null,
   "metadata": {},
   "outputs": [],
   "source": [
    "df1['UPC2']=df1['UPC']"
   ]
  },
  {
   "cell_type": "code",
   "execution_count": null,
   "metadata": {},
   "outputs": [],
   "source": [
    "osa_sos_all_mfg=df1[df1['Shift']=='morning'].groupby(['Created Time','StoreId','Manufacturer']).agg({'OSA':\"sum\",\\\n",
    "                                                'UPC':'count',\n",
    "                                                'UPC2': lambda x: x.nunique(),\n",
    "                                                 'Facing':\"sum\"})"
   ]
  },
  {
   "cell_type": "code",
   "execution_count": null,
   "metadata": {},
   "outputs": [],
   "source": [
    "osa_sos_all_mfg.info()"
   ]
  },
  {
   "cell_type": "code",
   "execution_count": null,
   "metadata": {},
   "outputs": [],
   "source": [
    "osa_sos_all_mfg.head()"
   ]
  },
  {
   "cell_type": "code",
   "execution_count": null,
   "metadata": {},
   "outputs": [],
   "source": [
    "osa_sos_all_mfg.rename(columns={'UPC':'rowcount',\n",
    "                   'OSA':'OSA_sum',\n",
    "                          'UPC2':\"num_unique_SKUs\"},inplace=True)"
   ]
  },
  {
   "cell_type": "code",
   "execution_count": null,
   "metadata": {},
   "outputs": [],
   "source": [
    "osa_sos_all_mfg['OSA_pcnt']=100*osa_sos_all_mfg['OSA_sum']/osa_sos_all_mfg['rowcount'].astype(int)"
   ]
  },
  {
   "cell_type": "code",
   "execution_count": null,
   "metadata": {},
   "outputs": [],
   "source": [
    "osa_sos_all_mfg['SOS_pcnt'] =osa_sos_all_mfg.groupby(['Created Time'])['Facing'].transform(\n",
    "                           lambda x: 100*x/x.sum())"
   ]
  },
  {
   "cell_type": "code",
   "execution_count": null,
   "metadata": {},
   "outputs": [],
   "source": [
    "osa_sos_all_mfg['SOS_pcnt']=osa_sos_all_mfg.SOS_pcnt.astype(float)"
   ]
  },
  {
   "cell_type": "code",
   "execution_count": null,
   "metadata": {},
   "outputs": [],
   "source": [
    "osa_sos_all_mfg[(osa_sos_all_mfg['StoreId'==51.0]) & (osa_sos_all_mfg['Manufacturer'=='Unilever']\\\n",
    "                                                    ) &(osa_sos_all_mfg['Shift']=='morning')]"
   ]
  },
  {
   "cell_type": "code",
   "execution_count": null,
   "metadata": {},
   "outputs": [],
   "source": [
    "osa_sos=df1.groupby(['Created Time','Shift','StoreId','Store_Names','Manufacturer']).agg({'OSA':\"sum\",\\\n",
    "                                                                            'UPC':'count',\n",
    "                                                                            'UPC2': lambda x: x.nunique(),\n",
    "                                                                           'Facing':\"sum\"})"
   ]
  },
  {
   "cell_type": "code",
   "execution_count": null,
   "metadata": {},
   "outputs": [],
   "source": [
    "osa_sos.reset_index(inplace=True)"
   ]
  },
  {
   "cell_type": "code",
   "execution_count": null,
   "metadata": {},
   "outputs": [],
   "source": [
    "osa_sos.rename(columns={'UPC':'rowcount',\n",
    "                   'OSA':'OSA_sum',\n",
    "                          'UPC2':\"num_unique_SKUs\"},inplace=True)"
   ]
  },
  {
   "cell_type": "code",
   "execution_count": null,
   "metadata": {
    "scrolled": false
   },
   "outputs": [],
   "source": [
    "osa_sos[osa_sos['Shift']=='morning'].head(15)"
   ]
  },
  {
   "cell_type": "code",
   "execution_count": null,
   "metadata": {},
   "outputs": [],
   "source": [
    "#OSA: row count for UPC and sum for OSA by brand, drop NAs for % retail 1-out of stock\n",
    "#SOS: use sum of facing over total facing\n"
   ]
  },
  {
   "cell_type": "code",
   "execution_count": null,
   "metadata": {},
   "outputs": [],
   "source": [
    "osa_sos['OSA_pcnt']=100*osa_sos['OSA_sum']/osa_sos['rowcount'].astype(int)"
   ]
  },
  {
   "cell_type": "code",
   "execution_count": null,
   "metadata": {},
   "outputs": [],
   "source": [
    "osa_sos['SOS_pcnt'] =osa_sos.groupby(['Created Time','StoreId','Store_Names','Shift'])\\\n",
    "['Facing'].transform(lambda x: 100*x/x.sum())\n"
   ]
  },
  {
   "cell_type": "code",
   "execution_count": null,
   "metadata": {},
   "outputs": [],
   "source": [
    "osa_sos['SOS_pcnt']=osa_sos.SOS_pcnt.astype(float)"
   ]
  },
  {
   "cell_type": "code",
   "execution_count": null,
   "metadata": {},
   "outputs": [],
   "source": [
    "osa_daily_avg_allstores=osa_sos.groupby(['Shift','Created Time'])['OSA_pcnt'].mean()"
   ]
  },
  {
   "cell_type": "code",
   "execution_count": null,
   "metadata": {},
   "outputs": [],
   "source": [
    "osa_daily_avg_allstores"
   ]
  },
  {
   "cell_type": "code",
   "execution_count": null,
   "metadata": {},
   "outputs": [],
   "source": [
    "osa_sos.to_csv(\"osa_sos.csv\",index=False)"
   ]
  },
  {
   "cell_type": "code",
   "execution_count": null,
   "metadata": {
    "scrolled": false
   },
   "outputs": [],
   "source": [
    "osa_mor_all_mfg=osa_sos[(osa_sos['Shift']=='morning') & (osa_sos['Created Time']=='2019-12-09')]"
   ]
  },
  {
   "cell_type": "code",
   "execution_count": null,
   "metadata": {},
   "outputs": [],
   "source": [
    "osa_mor_all_mfg.groupby('Created Time').agg({\n",
    "    'OSA_pcnt':'sum',\n",
    "    'Created Time':'count'\n",
    "},axis=1)"
   ]
  },
  {
   "cell_type": "code",
   "execution_count": null,
   "metadata": {},
   "outputs": [],
   "source": [
    "osa_mor_all_mfg.reset_index(inplace=True)"
   ]
  },
  {
   "cell_type": "code",
   "execution_count": null,
   "metadata": {},
   "outputs": [],
   "source": [
    "ata_mor=osa_mor_all_mfg[osa_mor_all_mfg['StoreId']==51.0]"
   ]
  },
  {
   "cell_type": "code",
   "execution_count": null,
   "metadata": {},
   "outputs": [],
   "source": [
    "osa_mor_all_mfg"
   ]
  },
  {
   "cell_type": "code",
   "execution_count": null,
   "metadata": {},
   "outputs": [],
   "source": [
    "ata_mor.rowcount.sum()"
   ]
  },
  {
   "cell_type": "code",
   "execution_count": null,
   "metadata": {},
   "outputs": [],
   "source": [
    "ata_mor.OSA_sum.sum()"
   ]
  },
  {
   "cell_type": "code",
   "execution_count": null,
   "metadata": {},
   "outputs": [],
   "source": [
    "100*141/158"
   ]
  },
  {
   "cell_type": "code",
   "execution_count": null,
   "metadata": {},
   "outputs": [],
   "source": [
    "%pwd"
   ]
  },
  {
   "cell_type": "code",
   "execution_count": null,
   "metadata": {},
   "outputs": [],
   "source": [
    "morning=df1[df1['Shift']=='morning'].groupby('Created Time').agg({'OSA':'sum',\n",
    "                                                                         'UPC':\"count\"})"
   ]
  },
  {
   "cell_type": "code",
   "execution_count": null,
   "metadata": {},
   "outputs": [],
   "source": [
    "morning['OSA_pcnt']=100*morning['OSA']/morning['UPC'].astype(float)"
   ]
  }
 ],
 "metadata": {
  "kernelspec": {
   "display_name": "Python 3",
   "language": "python",
   "name": "python3"
  },
  "language_info": {
   "codemirror_mode": {
    "name": "ipython",
    "version": 3
   },
   "file_extension": ".py",
   "mimetype": "text/x-python",
   "name": "python",
   "nbconvert_exporter": "python",
   "pygments_lexer": "ipython3",
   "version": "3.7.6"
  }
 },
 "nbformat": 4,
 "nbformat_minor": 4
}
